{
 "cells": [
  {
   "cell_type": "code",
   "execution_count": 166,
   "metadata": {},
   "outputs": [],
   "source": [
    "import pandas as pdf\n",
    "from tqdm import tqdm"
   ]
  },
  {
   "cell_type": "code",
   "execution_count": 184,
   "metadata": {},
   "outputs": [
    {
     "name": "stdout",
     "output_type": "stream",
     "text": [
      "1707\n"
     ]
    }
   ],
   "source": [
    "# study dates (from here: https://ftp.ncbi.nlm.nih.gov/dbgap/studies/)\n",
    "dates = pd.read_csv('studies_dates.tsv',sep='\\t',names=['study','Last modified','time','size','-'])\n",
    "dict_dates = pd.Series(dates['Last modified'].values,index=dates.study).to_dict()\n",
    "print(len(dict_dates.keys()))"
   ]
  },
  {
   "cell_type": "code",
   "execution_count": 185,
   "metadata": {},
   "outputs": [
    {
     "name": "stderr",
     "output_type": "stream",
     "text": [
      "100%|██████████| 933/933 [00:03<00:00, 253.63it/s]\n"
     ]
    }
   ],
   "source": [
    "# retrieve study comments from Ftp_Table_of_Contents.xml (from here: https://ftp.ncbi.nlm.nih.gov/dbgap/studies/)\n",
    "df = pd.read_csv('var_report.comments.tsv',sep='\\t',names=['file','link','comment'])\n",
    "df['study'] = df['file'].str.split('\\.',expand=True)[0]\n",
    "\n",
    "dates = pd.read_csv('studies_dates.txt',sep=' ',names=['study','Last modified'])\n",
    "dict_dates = pd.Series(dates['Last modified'].values,index=dates.study).to_dict()\n",
    "df['Last modified'] = df['study'].map(dict_dates)\n",
    "\n",
    "df['Last modified'] = pd.to_datetime(df['Last modified'])\n",
    "df = df.sort_values(by='Last modified')\n",
    "df = df[~pd.isna(df['Last modified'])] # some studies are not reported in https://ftp.ncbi.nlm.nih.gov/dbgap/studies/\n",
    "\n",
    "# select studies release from 2018\n",
    "df = df[(df['Last modified'] > '2018-01-01')]\n",
    "df['version'] = df['file'].str.split('\\.',expand=True)[1].str.split('v',expand=True)[1]\n",
    "df = df[df['version'].isin(df['version'].unique()[df['version'].unique()!=None])] # two files have 'None' version\n",
    "df['version'] = df['version'].astype(int)\n",
    "\n",
    "# keep only the most recent version of each study\n",
    "a = df.groupby('study')['version'].max().reset_index()\n",
    "a_dict = pd.Series(a.version.values,index=a.study).to_dict()\n",
    "lst = []\n",
    "for k,v in tqdm(a_dict.items()):\n",
    "    lst.append(df[(df['study']==k)&(df['version']==v)])\n",
    "df = pd.concat(lst)"
   ]
  },
  {
   "cell_type": "code",
   "execution_count": 181,
   "metadata": {},
   "outputs": [
    {
     "name": "stdout",
     "output_type": "stream",
     "text": [
      "44\n"
     ]
    }
   ],
   "source": [
    "# studies not containing var_report files\n",
    "print(len(list(set(dict_dates.keys()).difference(df['study'].unique()))))"
   ]
  },
  {
   "cell_type": "code",
   "execution_count": 196,
   "metadata": {},
   "outputs": [],
   "source": [
    "df[['study','Last modified','version','file','link','comment']].sort_values(by='Last modified').to_csv('study_comments.tsv',sep='\\t',index=False)"
   ]
  }
 ],
 "metadata": {
  "kernelspec": {
   "display_name": "Python 3",
   "language": "python",
   "name": "python3"
  },
  "language_info": {
   "codemirror_mode": {
    "name": "ipython",
    "version": 3
   },
   "file_extension": ".py",
   "mimetype": "text/x-python",
   "name": "python",
   "nbconvert_exporter": "python",
   "pygments_lexer": "ipython3",
   "version": "3.6.9"
  }
 },
 "nbformat": 4,
 "nbformat_minor": 4
}
