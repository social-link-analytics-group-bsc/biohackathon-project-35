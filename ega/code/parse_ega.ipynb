{
 "cells": [
  {
   "cell_type": "code",
   "execution_count": 1,
   "id": "blocked-aruba",
   "metadata": {},
   "outputs": [],
   "source": [
    "import requests\n",
    "from collections import Counter\n",
    "import pandas as pd\n",
    "import json"
   ]
  },
  {
   "cell_type": "code",
   "execution_count": 2,
   "id": "successful-plasma",
   "metadata": {},
   "outputs": [],
   "source": [
    "def get_data(study_id):\n",
    "    response = requests.get(\n",
    "        \" https://ega-archive.org/metadata/v2/samples?queryBy=study&queryId={}&limit=0\".format(study_id)\n",
    "    )\n",
    "    if response.status_code != 200:\n",
    "        print(\"Study {} got error code {}\".format(study_id, response.status_code))\n",
    "        return []\n",
    "    return response.json()['response'][\"result\"]\n",
    "\n",
    "\n",
    "def get_study_list(filename):\n",
    "    with open(filename) as fi:\n",
    "        study_list = list(fi.readlines())\n",
    "    study_list = list(map(lambda x: x.strip(), study_list))\n",
    "    return study_list\n",
    "    \n",
    "\n",
    "def main():\n",
    "    \n",
    "    \n",
    "    rows = []\n",
    "    for s in study_list:\n",
    "        rows.append(get_study_info(s))\n",
    "\n",
    "    pd.DataFrame(rows).to_csv('EGA_data.csv',sep=';')"
   ]
  },
  {
   "cell_type": "code",
   "execution_count": 3,
   "id": "pressed-simpson",
   "metadata": {},
   "outputs": [],
   "source": [
    "study_list = get_study_list(\"/media/victoria/VICTORIA_EXTERNAL_DISK/BioHackathon2021/EGA_examples/EGA_studies_list.txt\")"
   ]
  },
  {
   "cell_type": "code",
   "execution_count": null,
   "id": "stunning-water",
   "metadata": {},
   "outputs": [],
   "source": [
    "study_list[1]"
   ]
  },
  {
   "cell_type": "code",
   "execution_count": null,
   "id": "given-listening",
   "metadata": {},
   "outputs": [
    {
     "name": "stdout",
     "output_type": "stream",
     "text": [
      "EGAS00001002783\n",
      "EGAS00001002784\n",
      "EGAS00001002786\n",
      "EGAS00001002787\n",
      "EGAS00001002788\n",
      "EGAS00001002789\n",
      "EGAS00001002793\n",
      "EGAS00001002790\n"
     ]
    }
   ],
   "source": [
    "attributes= dict()\n",
    "for s in study_list:\n",
    "    out = dict()\n",
    "    print(s)\n",
    "    results = get_data(s)\n",
    "    \n",
    "    out[s] = results\n",
    "    ega_file = open('/media/victoria/VICTORIA_EXTERNAL_DISK/BioHackathon2021/EGA_examples/metadata_files/'+ s+ \"_metadata.json\", \"w\")\n",
    "    json.dump(out, ega_file)\n",
    "    ega_file.close()\n",
    "    \n",
    "    gender_d = dict()\n",
    "    phenotype_d = dict()\n",
    "    attributes_d=dict()\n",
    "\n",
    "    for i in range(0,len(results)):\n",
    "        g = results[i]['gender']\n",
    "        p = results[i]['phenotype']\n",
    "        a = results[i]['attributes']\n",
    "        #print(a)\n",
    "        if g in gender_d.keys():\n",
    "            gender_d[g] += 1\n",
    "        else:\n",
    "            gender_d[g] = 1\n",
    "\n",
    "        if p in phenotype_d.keys(): \n",
    "            phenotype_d[p] += 1\n",
    "        else: \n",
    "            phenotype_d[p] = 1\n",
    "\n",
    "        if a in attributes_d.keys(): \n",
    "            attributes_d[p] += 1\n",
    "        else: \n",
    "            attributes_d[p] = 1\n",
    "    gender_d['total'] = sum(gender_d.values())\n",
    "    phenotype_d['total'] = sum(phenotype_d.values())\n",
    "    attributes_d['total'] = sum(attributes_d.values())\n",
    "    attributes[s] = {'gender' : gender_d, 'phenotype': phenotype_d, 'attributes': attributes_d}"
   ]
  },
  {
   "cell_type": "code",
   "execution_count": null,
   "id": "educational-dream",
   "metadata": {},
   "outputs": [],
   "source": [
    "a_file = open(\"ega_gender_phenotypes_attributes_summary.json\", \"w\")\n",
    "\n",
    "json.dump(attributes, a_file)\n",
    "\n",
    "a_file.close()"
   ]
  }
 ],
 "metadata": {
  "kernelspec": {
   "display_name": "Python 3",
   "language": "python",
   "name": "python3"
  },
  "language_info": {
   "codemirror_mode": {
    "name": "ipython",
    "version": 3
   },
   "file_extension": ".py",
   "mimetype": "text/x-python",
   "name": "python",
   "nbconvert_exporter": "python",
   "pygments_lexer": "ipython3",
   "version": "3.9.7"
  }
 },
 "nbformat": 4,
 "nbformat_minor": 5
}
